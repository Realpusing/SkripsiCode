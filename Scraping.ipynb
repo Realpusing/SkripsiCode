{
 "cells": [
  {
   "cell_type": "code",
   "execution_count": 1,
   "metadata": {},
   "outputs": [
    {
     "name": "stdout",
     "output_type": "stream",
     "text": [
      "[1] Gambar berhasil disimpan: A:\\Kuliah\\Skrpsi\\Program\\Image coba\\Uji Scraping\\face_1.jpg\n",
      "[2] Gambar berhasil disimpan: A:\\Kuliah\\Skrpsi\\Program\\Image coba\\Uji Scraping\\face_2.jpg\n",
      "[3] Gambar berhasil disimpan: A:\\Kuliah\\Skrpsi\\Program\\Image coba\\Uji Scraping\\face_3.jpg\n",
      "[4] Gambar berhasil disimpan: A:\\Kuliah\\Skrpsi\\Program\\Image coba\\Uji Scraping\\face_4.jpg\n",
      "[5] Gambar berhasil disimpan: A:\\Kuliah\\Skrpsi\\Program\\Image coba\\Uji Scraping\\face_5.jpg\n",
      "[6] Gambar berhasil disimpan: A:\\Kuliah\\Skrpsi\\Program\\Image coba\\Uji Scraping\\face_6.jpg\n",
      "[7] Gambar berhasil disimpan: A:\\Kuliah\\Skrpsi\\Program\\Image coba\\Uji Scraping\\face_7.jpg\n",
      "[8] Gambar berhasil disimpan: A:\\Kuliah\\Skrpsi\\Program\\Image coba\\Uji Scraping\\face_8.jpg\n",
      "[9] Gambar berhasil disimpan: A:\\Kuliah\\Skrpsi\\Program\\Image coba\\Uji Scraping\\face_9.jpg\n",
      "[10] Gambar berhasil disimpan: A:\\Kuliah\\Skrpsi\\Program\\Image coba\\Uji Scraping\\face_10.jpg\n"
     ]
    }
   ],
   "source": [
    "import requests\n",
    "import time\n",
    "import os\n",
    "\n",
    "output_folder = r\"A:\\Kuliah\\Skrpsi\\Program\\Image coba\\Uji Scraping\"\n",
    "os.makedirs(output_folder, exist_ok=True)\n",
    "\n",
    "jumlah = 10\n",
    "\n",
    "for i in range(jumlah):\n",
    "    try:\n",
    "        url = \"https://thispersondoesnotexist.com/\"\n",
    "        response = requests.get(url, timeout=10)\n",
    "\n",
    "        if response.status_code == 200:\n",
    "            filename = os.path.join(output_folder, f\"face_{i+1}.jpg\")\n",
    "            with open(filename, \"wb\") as f:\n",
    "                f.write(response.content)\n",
    "            print(f\"[{i+1}] Gambar berhasil disimpan: {filename}\")\n",
    "        else:\n",
    "            print(f\"[{i+1}] Gagal mengunduh gambar. Status: {response.status_code}\")\n",
    "\n",
    "        time.sleep(0.5) \n",
    "\n",
    "    except Exception as e:\n",
    "        print(f\"[{i+1}] Error: {e}\")\n"
   ]
  },
  {
   "cell_type": "code",
   "execution_count": null,
   "metadata": {},
   "outputs": [],
   "source": []
  }
 ],
 "metadata": {
  "kernelspec": {
   "display_name": "Python 3",
   "language": "python",
   "name": "python3"
  },
  "language_info": {
   "codemirror_mode": {
    "name": "ipython",
    "version": 3
   },
   "file_extension": ".py",
   "mimetype": "text/x-python",
   "name": "python",
   "nbconvert_exporter": "python",
   "pygments_lexer": "ipython3",
   "version": "3.9.11"
  }
 },
 "nbformat": 4,
 "nbformat_minor": 2
}
